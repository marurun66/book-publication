{
 "cells": [
  {
   "cell_type": "code",
   "execution_count": 7,
   "metadata": {},
   "outputs": [],
   "source": [
    "import os\n",
    "from dotenv import load_dotenv\n",
    "from huggingface_hub import login\n",
    "# .env 파일 로드 확인\n",
    "load_dotenv('.env', verbose=True)\n",
    "\n",
    "hf_token = os.getenv('HUGGINGFACEHUB_API_TOKEN')\n",
    "\n",
    "login(hf_token)\n"
   ]
  },
  {
   "cell_type": "code",
   "execution_count": 4,
   "metadata": {},
   "outputs": [
    {
     "name": "stderr",
     "output_type": "stream",
     "text": [
      "No sentence-transformers model found with name BM-K/KoSimCSE-roberta. Creating a new one with mean pooling.\n"
     ]
    },
    {
     "name": "stdout",
     "output_type": "stream",
     "text": [
      "✅ 코사인 유사도를 적용한 FAISS 인덱스가 저장되었습니다.\n"
     ]
    }
   ],
   "source": [
    "import faiss\n",
    "import numpy as np\n",
    "from sentence_transformers import SentenceTransformer\n",
    "import json\n",
    "\n",
    "# ✅ 문장 임베딩 모델 로드\n",
    "embedding_model = SentenceTransformer(\"BM-K/KoSimCSE-roberta\")\n",
    "\n",
    "# ✅ 책 데이터 로드\n",
    "with open(\"merged_books_filtered.json\", \"r\", encoding=\"utf-8\") as f:\n",
    "    books_data = json.load(f)\n",
    "\n",
    "# ✅ 책 요약을 임베딩 변환\n",
    "book_summaries = [book[\"summary\"] for book in books_data]\n",
    "book_titles = [book[\"title\"] for book in books_data]\n",
    "\n",
    "# 🔹 임베딩 변환\n",
    "book_embeddings = embedding_model.encode(book_summaries, convert_to_numpy=True)\n",
    "\n",
    "# 🔹 L2 정규화 (코사인 유사도 적용)\n",
    "faiss.normalize_L2(book_embeddings)  # 벡터 정규화\n",
    "\n",
    "# 🔹 FAISS 인덱스 생성 (L2 정규화된 벡터 기반)\n",
    "dimension = book_embeddings.shape[1]  # 벡터 차원 (768)\n",
    "faiss_index = faiss.IndexFlatIP(dimension)  # 🚀 코사인 유사도 적용 (Inner Product)\n",
    "faiss_index.add(book_embeddings)  # 벡터 추가\n",
    "\n",
    "# ✅ FAISS 인덱스 저장\n",
    "faiss.write_index(faiss_index, \"book_faiss_cosine_index.bin\")\n",
    "\n",
    "print(\"✅ 코사인 유사도를 적용한 FAISS 인덱스가 저장되었습니다.\")\n"
   ]
  },
  {
   "cell_type": "code",
   "execution_count": 6,
   "metadata": {},
   "outputs": [
    {
     "name": "stderr",
     "output_type": "stream",
     "text": [
      "No sentence-transformers model found with name BM-K/KoSimCSE-roberta. Creating a new one with mean pooling.\n"
     ]
    },
    {
     "name": "stdout",
     "output_type": "stream",
     "text": [
      "['📖 **바람이 분다**\\n📌 연인 세쓰코는 죽음을 앞두고 있다. 그러나 그들은 서로를 깊이 사랑했고, 오랫동안 서로의 곁에 머물고 싶었기에 끝내 사랑을 이루지 못한다. 이 소설은 사랑하는 연인의 애틋한 사랑 이야기와 연인을 떠나보낸 후 남겨진 이에게 진정한 삶은 무엇인지 되새긴다. \\n', '📖 **가시고기**\\n📌 가시고기 아빠 정호연은 백혈병과 골수이식이 아닌 더 이상 희망이 없는 상황 속에서, 아들을 살릴 수만 있다면 자신의 몸까지 내어주려는 아버지의 사랑을 그린다. 이 책은 아버지의 사랑이 어떤 모습일지 표현하지 않는다. 하지만 변할 수 없는 사랑은 변함없는 사랑으로 변함없는 감동을 전달한다.\\n', '📖 **원도**\\n📌 ‘나와 인간 사이 수명 중개인’의 이야기. 원작과 현실이 뒤섞인 이 소설은 삶과 죽음에 대한 질문을 던진다. 죽음을 앞두고 있는 소녀는 자신이 왜 죽지 않았는지 이유를 찾고, 그 이유를 밝혀낸다. 두 사람 모두 살인자처럼 보인다. 그러나 어느 순간, 소설가 최진영 유니버스의 시작이 된다.\\n']\n"
     ]
    }
   ],
   "source": [
    "import faiss\n",
    "import json\n",
    "import requests\n",
    "from sentence_transformers import SentenceTransformer\n",
    "\n",
    "# ✅ 1️⃣ FAISS 인덱스 로드\n",
    "faiss_index = faiss.read_index(\"book_faiss_cosine_index.bin\")\n",
    "\n",
    "# ✅ 2️⃣ 책 데이터 로드\n",
    "with open(\"merged_books_filtered.json\", \"r\", encoding=\"utf-8\") as f:\n",
    "    books_data = json.load(f)\n",
    "\n",
    "book_titles = [book[\"title\"] for book in books_data]\n",
    "book_summaries = [book[\"summary\"] for book in books_data]\n",
    "\n",
    "# ✅ 3️⃣ 문장 임베딩 모델 로드\n",
    "embedding_model = SentenceTransformer(\"BM-K/KoSimCSE-roberta\")\n",
    "\n",
    "# ✅ 4️⃣ 네이버 API 호출 함수\n",
    "def search_naver_api(user_query):\n",
    "    \"\"\"네이버 API를 사용하여 책 검색\"\"\"\n",
    "    client_id = \"YOUR_NAVER_CLIENT_ID\"\n",
    "    client_secret = \"YOUR_NAVER_CLIENT_SECRET\"\n",
    "    url = \"https://openapi.naver.com/v1/search/book.json\"\n",
    "\n",
    "    headers = {\n",
    "        \"X-Naver-Client-Id\": client_id,\n",
    "        \"X-Naver-Client-Secret\": client_secret\n",
    "    }\n",
    "    params = {\n",
    "        \"query\": user_query,\n",
    "        \"display\": 5,  # 최대 5권 검색\n",
    "        \"sort\": \"sim\"\n",
    "    }\n",
    "\n",
    "    response = requests.get(url, headers=headers, params=params)\n",
    "    if response.status_code == 200:\n",
    "        return response.json()[\"items\"]\n",
    "    else:\n",
    "        print(f\"🚨 네이버 API 호출 실패: {response.status_code}\")\n",
    "        return []\n",
    "\n",
    "# ✅ 5️⃣ FAISS 검색 함수\n",
    "def find_similar_books(user_story, top_k=5):\n",
    "    \"\"\"유저 입력 스토리 → 코사인 유사도 기반 책 검색\"\"\"\n",
    "    # 🔹 유저 입력을 문장 임베딩 변환\n",
    "    user_embedding = embedding_model.encode([user_story], convert_to_numpy=True)\n",
    "    faiss.normalize_L2(user_embedding)  # 벡터 정규화\n",
    "\n",
    "    # 🔹 FAISS 검색\n",
    "    distances, indices = faiss_index.search(user_embedding, top_k)\n",
    "\n",
    "    # 🔹 검색된 책 목록 출력\n",
    "    recommended_books = []\n",
    "    for i in range(top_k):\n",
    "        idx = indices[0][i]\n",
    "        title = book_titles[idx]\n",
    "        summary = book_summaries[idx]\n",
    "        recommended_books.append(f\"📖 **{title}**\\n📌 {summary}\\n\")\n",
    "\n",
    "    return recommended_books\n",
    "\n",
    "# ✅ 6️⃣ FAISS + 네이버 API 하이브리드 검색 함수\n",
    "def hybrid_search(user_story, top_k=5):\n",
    "    \"\"\"FAISS에서 먼저 검색하고, 부족하면 네이버 API 호출\"\"\"\n",
    "    faiss_results = find_similar_books(user_story, top_k)\n",
    "\n",
    "    # 🔹 검색 결과가 없거나, 유사한 책이 부족할 경우 → 네이버 API 검색\n",
    "    if not faiss_results:\n",
    "        print(\"⚠️ FAISS에서 유사한 책이 없음 → 네이버 API 검색 실행\")\n",
    "        naver_results = search_naver_api(user_story)\n",
    "\n",
    "        if naver_results:\n",
    "            print(\"✅ 네이버 API 검색 결과:\")\n",
    "            for book in naver_results:\n",
    "                print(f\"📖 **{book['title']}**\\n📌 {book['description']}\\n\")\n",
    "\n",
    "            # FAISS에 추가하기 (선택적)\n",
    "            # add_to_faiss(naver_results)\n",
    "\n",
    "        return naver_results\n",
    "    else:\n",
    "        return faiss_results\n",
    "\n",
    "# ✅ 7️⃣ 테스트 실행\n",
    "user_story = \"뇌사한 딸을 포기하지 못하는 부모가 나오는 소설\"\n",
    "print(hybrid_search(user_story, top_k=3))\n"
   ]
  },
  {
   "cell_type": "code",
   "execution_count": null,
   "metadata": {},
   "outputs": [],
   "source": []
  }
 ],
 "metadata": {
  "kernelspec": {
   "display_name": "hi",
   "language": "python",
   "name": "python3"
  },
  "language_info": {
   "codemirror_mode": {
    "name": "ipython",
    "version": 3
   },
   "file_extension": ".py",
   "mimetype": "text/x-python",
   "name": "python",
   "nbconvert_exporter": "python",
   "pygments_lexer": "ipython3",
   "version": "3.10.13"
  }
 },
 "nbformat": 4,
 "nbformat_minor": 2
}
