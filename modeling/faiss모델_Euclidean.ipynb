{
 "cells": [
  {
   "cell_type": "code",
   "execution_count": 13,
   "metadata": {},
   "outputs": [
    {
     "name": "stdout",
     "output_type": "stream",
     "text": [
      "✅ 두 개의 JSON 파일이 성공적으로 병합되었습니다! ('merged_books.json'에 저장됨)\n"
     ]
    }
   ],
   "source": [
    "import json\n",
    "\n",
    "# 📌 1️⃣ 두 개의 JSON 파일 로드\n",
    "with open(\"unlabeled_books_with_summary_edit.json\", \"r\", encoding=\"utf-8\") as f:\n",
    "    unlabeled_books = json.load(f)\n",
    "\n",
    "with open(\"labeling_novels_filtered.json\", \"r\", encoding=\"utf-8\") as f:\n",
    "    labeled_books = json.load(f)\n",
    "\n",
    "# ✅ 2️⃣ 중복 방지: 책 제목 기준으로 딕셔너리 생성\n",
    "merged_books = {book[\"title\"]: book for book in unlabeled_books}  # unlabeled 데이터 추가\n",
    "\n",
    "# ✅ 3️⃣ labeled_books 추가 (중복 방지)\n",
    "for book in labeled_books:\n",
    "    title = book[\"title\"]\n",
    "    if title not in merged_books:\n",
    "        merged_books[title] = book  # 기존에 없으면 추가\n",
    "\n",
    "# 📌 4️⃣ 최종 JSON 파일로 저장\n",
    "output_file = \"merged_books.json\"\n",
    "with open(output_file, \"w\", encoding=\"utf-8\") as f:\n",
    "    json.dump(list(merged_books.values()), f, ensure_ascii=False, indent=4)\n",
    "\n",
    "print(f\"✅ 두 개의 JSON 파일이 성공적으로 병합되었습니다! ('{output_file}'에 저장됨)\")\n"
   ]
  },
  {
   "cell_type": "code",
   "execution_count": 10,
   "metadata": {},
   "outputs": [
    {
     "name": "stdout",
     "output_type": "stream",
     "text": [
      "✅ '줄거리 없음' 데이터가 제거된 파일이 'merged_books_filtered.json'에 저장되었습니다!\n"
     ]
    }
   ],
   "source": [
    "import json\n",
    "\n",
    "# 📌 1️⃣ 병합된 JSON 파일 로드\n",
    "with open(\"merged_books.json\", \"r\", encoding=\"utf-8\") as f:\n",
    "    merged_books = json.load(f)\n",
    "\n",
    "# ✅ 2️⃣ \"summary\" 값이 \"줄거리 없음\"이 아닌 데이터만 필터링\n",
    "filtered_books = [book for book in merged_books if book[\"summary\"].strip() != \"줄거리 없음\"]\n",
    "\n",
    "# 📌 3️⃣ 새로운 JSON 파일로 저장\n",
    "output_file = \"merged_books_filtered.json\"\n",
    "with open(output_file, \"w\", encoding=\"utf-8\") as f:\n",
    "    json.dump(filtered_books, f, ensure_ascii=False, indent=4)\n",
    "\n",
    "print(f\"✅ '줄거리 없음' 데이터가 제거된 파일이 '{output_file}'에 저장되었습니다!\")\n"
   ]
  },
  {
   "cell_type": "code",
   "execution_count": null,
   "metadata": {},
   "outputs": [
    {
     "name": "stderr",
     "output_type": "stream",
     "text": [
      "No sentence-transformers model found with name BM-K/KoSimCSE-roberta. Creating a new one with mean pooling.\n"
     ]
    },
    {
     "name": "stdout",
     "output_type": "stream",
     "text": [
      "✅ 책 요약 데이터가 FAISS 벡터 DB에 저장되었습니다.\n"
     ]
    }
   ],
   "source": [
    "import json\n",
    "import faiss\n",
    "from sentence_transformers import SentenceTransformer\n",
    "\n",
    "# ✅ 문장 임베딩 모델 로드 (KoSimCSE-roberta)\n",
    "embedding_model = SentenceTransformer(\"BM-K/KoSimCSE-roberta\")\n",
    "\n",
    "# ✅ 책 데이터 로드\n",
    "with open(\"merged_books_filtered.json\", \"r\", encoding=\"utf-8\") as f:\n",
    "    books_data = json.load(f)\n",
    "\n",
    "# ✅ 책 요약을 임베딩 변환\n",
    "book_summaries = [book[\"summary\"] for book in books_data]\n",
    "book_titles = [book[\"title\"] for book in books_data]\n",
    "\n",
    "# 🔹 임베딩 변환\n",
    "book_embeddings = embedding_model.encode(book_summaries, convert_to_numpy=True)\n",
    "\n",
    "# 🔹 FAISS 인덱스 생성 (유사도 검색용)\n",
    "dimension = book_embeddings.shape[1]  # 벡터 차원 (768)\n",
    "faiss_index = faiss.IndexFlatL2(dimension)  # L2 거리 기반 검색\n",
    "faiss_index.add(book_embeddings)  # 벡터 추가\n",
    "\n",
    "# ✅ FAISS 인덱스 저장\n",
    "faiss.write_index(faiss_index, \"book_faiss_index.bin\")\n",
    "\n",
    "print(\"✅ 책 요약 데이터가 FAISS 벡터 DB에 저장되었습니다.\")\n"
   ]
  },
  {
   "cell_type": "code",
   "execution_count": 21,
   "metadata": {},
   "outputs": [
    {
     "name": "stdout",
     "output_type": "stream",
     "text": [
      "📖 제목: 오만과 선량\n",
      "📌 줄거리: 가케루는 오랜 시간 만난 연인과 결혼이라는 결론에 다다르지 못하고 헤어졌다.\n",
      " 오랜 결혼 활동 끝에 결혼 정보 앱에서 착하고 성실한 마미를 만난다.\n",
      " 가케루는 마미와 결혼해야겠다는 확신은 없지만 결국 2년 동안의 연애 끝에 결혼을 약속한다.\n",
      " 다니던 회사의 송별회 다음날, 마미는 약혼 반지를 비롯해 많은 것을 그대로 남겨둔 채 홀연히 사라진다.\n",
      " 단서는 마미가 줄곧 말해 왔던 스토커의 존재.\n",
      " 가케루는 스토커가 있다는 마미의 고향 군마로 향해 마미를 둘러싼 사람들을 만나며 마미의 과거를 파헤친다.\n",
      "\n",
      "\n",
      "📖 제목: 원도\n",
      "📌 줄거리: “나는 왜 살아 있는가.\n",
      " 이것이 아니다.\n",
      "\n",
      " 나는 왜 죽지 않았는가.\n",
      " 이것이다”\n",
      "\n",
      "살아내기 위해 응시해야 하는 내 속의 광활한 구멍 하나 \n",
      "이 사람 ‘원도’와 다르지 않은 우리를 위한 \n",
      "삶과 구원에 대한 통렬한 이야기\n",
      "\n",
      "2006년 〈실천문학〉으로 작품 활동을 시작한 이래 2010년 첫 장편소설인 《당신 옆을 스쳐간 그 소녀의 이름은》으로 한겨레문학상을 수상하며 본격적인 이름을 알린 지 십수 년 남짓.\n",
      " 처연한 비관의 세계에서 시작한 그는 2023년 이상문학상을 받으며 “등단 이후 십여 년간 한결같은 걸음걸이로 걸어온 작가의 작품 세계가 마침내 새로운 경지로 들어섰음을 보여준다.\n",
      " 눈이 부시다”(소설가 윤대녕)라는 평을 받았다.\n",
      " 같은 해 출간한 장편소설 《단 한 사람》을 통해서는 십여 년간 곱씹은 질문에 마침내 마침표를 찍으며 작가적 전환점을 맞기도 했다.\n",
      " 지구에서 가장 키가 크고 오래 사는 생물, 수천 년 무성한 나무의 수명 가운데 이파리 한 장만큼을 빌려 죽을 위기에 처한 단 한 명만 살릴 수 있는, ‘나무와 인간 사이 수명 중개인’의 이야기인 《단 한 사람》은 출간되자마자 쇄를 거듭하며 하반기 최대 베스트셀러로 등극했음은 물론, 〈한겨레21〉 〈시사인〉 〈채널예스〉에서 올해의 책으로 선정되었다.\n",
      " \n",
      "20여만 부가 판매되며 역주행 열풍을 이끈 《구의 증명》에서부터 소설적 성취의 완결을 보여준《단 한 사람》까지, 발표하는 소설마다 특유의 거침없는 서사와 긴 여운을 남기는 서정으로 최진영 유니버스는 바야흐로 점점 더 확장 중이다.\n",
      "  \n",
      "그렇다면 최진영 유니버스의 시작은 어디서부터였을까? 《원도》가 그 실마리가 되어줄 것이다.\n",
      " 2013년 ‘나는 왜 죽지 않았는가’라는 제목으로 출간되어 짧게 독자를 만나고 절판된 채 중고책 시장에서 수만 원을 호가하며 판매되는 등 내내 복간 요청이 끊이지 않았던 이 장편소설이 11년 만에 새 옷을 입고 독자를 찾아온다.\n",
      " 《원도》는 최진영 작가의 세 번째 장편소설로 《구의 증명》 바로 전 작품이라는 점에서 흥미롭다.\n",
      " 《구의 증명》의 모티프가 선연한데, 특유의 강력하고 거침없는 파토스로 몰아치는 생동감은 작가의 여느 책을 능가한다.\n",
      " 작가 또한 “그때 원도의 이야기를 썼기 때문에 다음 질문으로 건너갈 수 있었음을” ‘새로 쓴 작가의 말’에 밝혀두었다.\n",
      " \n",
      "살갗을 찢어내는 차디찬 겨울바람을 온몸으로 맞으며 골목길에 “불법 쓰레기”처럼 처박힌 한 남자.\n",
      " 횡령과 사기, 탈세와 살인혐의로 길거리와 여관방을 전전하는, 검붉은 피를 목구멍으로 토해내는 자, 그의 이름은 원도.\n",
      " \n",
      "그에게 무슨 일이 벌어졌던가.\n",
      " 그는 한때 아내도 딸도, 집도 재산도 있었다.\n",
      " 남부러울 것 없는 인생이었다.\n",
      " 하지만 어디서부터 잘못된 것일까.\n",
      " 여섯 살에 목도한 아버지의 죽음? 어머니의 무관심? 열등감으로 몸부림 치게 만들었던 그 녀석? 끝내 실패를 안겼던 사랑? 원도는 뒤틀려버린 인생의 한 조각 구멍을 찾으려 안간힘을 쓴다.\n",
      " \n",
      "이 책은 이미 끝나버렸다고 판결된 삶이라도 어떻게든 복원해서 다시 한번 살고자 하는 한 남자의 생에 대한 갈구를 마치 시지프 신화의 비극처럼 쏟아낸다.\n",
      " 이 사람 원도의 이야기를 읽고 나면 모두 그와 다르지 않은 자신을 깨닫게 될 것이다.\n",
      " 그리고 질문할 것이다.\n",
      " 이제 나는 어떻게 살아가야 하는가.\n",
      "\n",
      "\n",
      " 어쨌든 나에겐 사랑이 필요하다는 호소.\n",
      " 그것을 전하려고 계속 소설을 쓰는 것만 같다.\n",
      " ‘이렇게 계속 살아도 되는가’라는 문장은 ‘이렇게 계속 사랑해도 되는가’라는 문장과 크게 다르지 않다.\n",
      " 결핍뿐이라고 생각했는데 넘쳐흘렀다.\n",
      " 언제나 흐르고 있었다.\n",
      " 이 소설은 어쩌면 흐르는 그것을 잠시라도 막아서 내 안에 가두어보자는 안간힘이었는지도.\n",
      " 이 소설을 들여다보며 다시금 깨달았다.\n",
      " 그때 원도의 이야기를 썼기 때문에 다음 질문으로 건너갈 수 있었음을.\n",
      "_‘새로 쓴 작가의 말’에서\n",
      "\n",
      "📖 제목: 기타기타 사건부\n",
      "📌 줄거리: 수수께끼 풀이와 괴담이 절묘하게 어우러진\n",
      "거장 미야베 미유키의 새로운 시리즈 제1탄!\n",
      "\n",
      "불의의 사고로 아기와 함께 세상을 떠난 아내를 잊지 못해 독신으로 지내던 남자가 새로운 인연을 만나 결혼을 약속한다.\n",
      " 하지만 결혼식 당일.\n",
      " 여러 사람의 축복을 받으며 입장하려던 신랑 신부 앞에 낯선 여자가 나타나 난동을 부리는데.\n",
      " 여자는, 자신이 아기와 함께 세상을 떠난 전처이며 다시 부부가 되기 위해 저승에서 돌아와 환생했다고 주장한다.\n",
      " \n",
      "\n",
      "한편 왜소한 체격으로 저잣거리를 돌아다니며 문고를 파는 청년 기타이치는, 우연한 기회에 신랑 측으로부터 하객들에게 나눠줄 답례품을 의뢰받았다가 결혼식에까지 참석하게 되고, 저승에서 돌아와 환생했다고 주장하는 여자의 말에 의구심을 품으며 이를 해결하기 위해 사건의 한복판으로 뛰어드는데.\n",
      " 정말 저승에서 아내가 돌아온 것일까.\n",
      " \n",
      "\n",
      "기이한 수수께끼를 풀고 괴담을 좇아 트러블을 해결하는 경쾌무쌍한 활약극! 작가 미야베 미유키가 새롭게 선보이는 에도 시대 연작소설 ‘기타기타 시리즈’의 첫 번째 이야기.\n",
      " \n",
      "\n",
      "“이번 작품의 주인공은 문고상으로 일하고 있습니다.\n",
      " 문고상이란, 역사책이나 오락소설을 넣는 두꺼운 종이 상자를 만들어 파는 직업이지요.\n",
      " 어떤 문헌에서 발견했을 때부터 꼭 써먹어 보자고 마음먹었습니다.\n",
      " 이 젊은 문고상이 시중에 일어나는 크고 작은 트러블을 ‘입장이 약한 사람’들과 더불어 해결하며 어엿한 한 사람으로 성장해 나가는 모습을, 필생의 과업인 ‘미시마야 시리즈’와 함께 제가 현역으로 있는 이상 앞으로도 쭉 이어가고 싶습니다.\n",
      "”_미야베 미유키(PHP 특설 페이지 작가의 말 중에서)\n",
      "\n",
      "📖 제목: 화차\n",
      "📌 줄거리: 현대사회의 맹점과 어둠을 그려낸 미야베 미유키의 대표작!\n",
      "\n",
      "일본의 대표 미스터리 작가 미야베 미유키의 사회파 미스터리 걸작 『화차』.\n",
      " 제6회 야마모토 슈고로 상 수상하고 의 20년 총결산 1위에 오르는 등 작가의 대표작으로 꼽히고 있으며, 한국에서 이선균, 김민희, 조성하 주연의 영화로 만들어져 2012년 3월 개봉될 예정이다.\n",
      " 평범한 삶에 대한 갈망과 자본주의의 허상이 만들어낸 비극을 통해 현대사회의 어둠을 생생하게 그려냈다.\n",
      " 먼 친척 청년 가즈야로부터 약혼녀 세키네 쇼코를 찾아달라는 부탁을 받게 된 형사 혼마.\n",
      " 결혼을 앞두고 신용카드를 발급받으려다 과거에 개인파산을 신청한 적이 있다는 사실이 드러나자 갑자기 자취를 감추었다는 것이다.\n",
      " 단순한 실종사건으로 생각하고 조사를 시작한 혼마는 시간이 갈수록 그녀 뒤에 또다른 여자의 그림자가 있다는 것을 알게 되는데….\n",
      "\n",
      "\n",
      "📖 제목: 십이국기 9: 백은의 언덕 검은 달 1\n",
      "📌 줄거리: “진심으로 돌아오시기를 기다렸습니다……!”\n",
      "\n",
      "동양적인 세계관과 매력 넘치는 캐릭터로 엄청난 화제를 불러일으킨 판타지 소설 ‘십이국기’ 시리즈.\n",
      " 그 아홉 번째 권 『백은의 언덕 검은 달』이 출간되었다.\n",
      " 식(蝕)으로 인해 행방불명되었던 다이키가 돌아오면서 마찬가지로 비슷한 시기에 실종된 대국의 왕 교소를 찾아 모든 일을 바로잡으려고 하는 이야기를 담고 있다.\n",
      "\n",
      "일본 현지에서 18년 만에 출간된 장편소설 『백은의 언덕 검은 달』은 시기적으로 『황혼의 기슭 새벽의 하늘』과 『마성의 아이』에 이어지는 내용이자, 『바람의 바다 미궁의 기슭』의 6년 뒤 이야기를 그리고 있기에, 『황혼의 기슭 새벽의 하늘』과 『바람의 바다 미궁의 기슭』, 『마성의 아이』를 읽은 뒤 읽는 것을 권한다.\n",
      "\n",
      "\n"
     ]
    }
   ],
   "source": [
    "def find_similar_books(user_story, top_k=5):\n",
    "    \"\"\"유저가 입력한 스토리에 가장 유사한 책을 추천\"\"\"\n",
    "    # 🔹 입력된 스토리를 문장 임베딩 변환\n",
    "    user_embedding = embedding_model.encode([user_story], convert_to_numpy=True)\n",
    "\n",
    "    # 🔹 FAISS를 이용한 유사한 책 검색\n",
    "    distances, indices = faiss_index.search(user_embedding, top_k)\n",
    "\n",
    "    # 🔹 검색된 책 목록 출력\n",
    "    recommended_books = []\n",
    "    for i in range(top_k):\n",
    "        idx = indices[0][i]  # 검색된 책 인덱스\n",
    "        title = book_titles[idx]  # 책 제목\n",
    "        description = books_data[idx][\"description\"]  # 📌 원본 설명 가져오기\n",
    "        recommended_books.append(f\"📖 제목: {title}\\n📌 줄거리: {description}\\n\")\n",
    "\n",
    "    return \"\\n\".join(recommended_books)\n",
    "\n",
    "# ✅ 테스트: 유저가 입력한 스토리를 바탕으로 책 추천\n",
    "user_story = \"결혼을 앞둔 약혼녀가 사라져서 그녀를 추적하는 소설.\"\n",
    "print(find_similar_books(user_story, top_k=5))"
   ]
  },
  {
   "cell_type": "code",
   "execution_count": 17,
   "metadata": {},
   "outputs": [
    {
     "name": "stdout",
     "output_type": "stream",
     "text": [
      "FAISS 인덱스 크기: 1323\n",
      "책 데이터 개수: 1323\n"
     ]
    }
   ],
   "source": [
    "# 🔹 FAISS 인덱스 내의 데이터 수 확인\n",
    "print(f\"FAISS 인덱스 크기: {faiss_index.ntotal}\")  # 🔹 저장된 벡터 개수 확인\n",
    "\n",
    "# 🔹 books_data의 개수 확인\n",
    "print(f\"책 데이터 개수: {len(book_summaries)}\")\n"
   ]
  },
  {
   "cell_type": "code",
   "execution_count": null,
   "metadata": {},
   "outputs": [],
   "source": []
  }
 ],
 "metadata": {
  "kernelspec": {
   "display_name": "hi",
   "language": "python",
   "name": "python3"
  },
  "language_info": {
   "codemirror_mode": {
    "name": "ipython",
    "version": 3
   },
   "file_extension": ".py",
   "mimetype": "text/x-python",
   "name": "python",
   "nbconvert_exporter": "python",
   "pygments_lexer": "ipython3",
   "version": "3.10.13"
  }
 },
 "nbformat": 4,
 "nbformat_minor": 2
}
