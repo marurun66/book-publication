{
 "cells": [
  {
   "cell_type": "code",
   "execution_count": 28,
   "metadata": {},
   "outputs": [],
   "source": [
    "#.env에서 API키 가져오기\n",
    "import os\n",
    "from dotenv import load_dotenv\n",
    "load_dotenv('.env')\n",
    "CLIENT_ID = os.getenv('X_NAVER_CLIENT_ID')\n",
    "CLIENT_SECRET = os.getenv('X_NAVER_CLIENT_SECRET')\n"
   ]
  },
  {
   "cell_type": "code",
   "execution_count": null,
   "metadata": {},
   "outputs": [],
   "source": [
    "## 지금 작업중 (2/26 기준)"
   ]
  },
  {
   "cell_type": "code",
   "execution_count": 41,
   "metadata": {},
   "outputs": [
    {
     "name": "stdout",
     "output_type": "stream",
     "text": [
      "✅ 총 1637권의 장편 소설 데이터가 'filtered_novels.json'에 저장되었습니다!\n"
     ]
    }
   ],
   "source": [
    "import requests\n",
    "import time\n",
    "import json\n",
    "import os\n",
    "\n",
    "# 네이버 API 환경변수 가져오기\n",
    "CLIENT_ID = os.getenv('X_NAVER_CLIENT_ID')\n",
    "CLIENT_SECRET = os.getenv('X_NAVER_CLIENT_SECRET')\n",
    "\n",
    "# ✅ 검색할 소설 키워드 목록\n",
    "query_list = [\"한국 소설\", \"일본 소설\", \"영미 소설\"]\n",
    "\n",
    "# 📌 API 요청 함수\n",
    "def search_books(query, start=1, display=100):\n",
    "    url = \"https://openapi.naver.com/v1/search/book.json\"\n",
    "    headers = {\n",
    "        \"X-Naver-Client-Id\": CLIENT_ID,\n",
    "        \"X-Naver-Client-Secret\": CLIENT_SECRET\n",
    "    }\n",
    "    params = {\n",
    "        \"query\": query,\n",
    "        \"display\": display,  # 최대 100개 가져오기\n",
    "        \"start\": start,  # 페이징 처리\n",
    "        \"sort\": \"sim\"\n",
    "    }\n",
    "\n",
    "    response = requests.get(url, headers=headers, params=params)\n",
    "    if response.status_code == 200:\n",
    "        return response.json()[\"items\"]\n",
    "    else:\n",
    "        print(f\"⚠️ API 요청 실패 ({response.status_code}): {query}, start={start}\")\n",
    "        return []\n",
    "\n",
    "# 📌 전체 데이터 저장할 리스트\n",
    "all_books = []\n",
    "exclude_keywords = [\"단편\", \"소설집\", \"단편선\", \"앤솔러지\", \"모음집\", \"옴니버스\",\"자서전\",\"시집\",\"에세이\",\"수필\"]\n",
    "\n",
    "# ✅ 여러 검색어로 데이터 수집\n",
    "for query in query_list:\n",
    "    for start in range(1, 1000, 100):  # 1000권 이상 확보 시도\n",
    "        books = search_books(query, start)\n",
    "        if not books:\n",
    "            break  # 더 이상 결과 없음\n",
    "        \n",
    "        # 🔹 단편 소설 제외 (제목 또는 설명에 특정 키워드 포함 시 필터링)\n",
    "        filtered_books = []\n",
    "        for book in books:\n",
    "            title = book[\"title\"]\n",
    "            description = book[\"description\"]\n",
    "            author = book.get(\"author\", \"알 수 없음\")  # 🔹 작가 정보 가져오기\n",
    "            \n",
    "            # 📌 제외 키워드가 제목이나 설명에 포함되지 않은 경우만 저장\n",
    "            if not any(keyword in title or keyword in description for keyword in exclude_keywords):\n",
    "                filtered_books.append({\n",
    "                    \"title\": title.split(\"(\")[0].strip(),  # 🔹 제목에서 부가 정보 제거\n",
    "                    \"description\": description.replace(\".\", \".\\n\"),  # 🔹 줄바꿈 추가\n",
    "                    \"author\": author,  # 🔹 작가 정보 포함\n",
    "                    \"summary\": \"\"  # 🔹 줄거리(요약)는 비워둠\n",
    "                })\n",
    "\n",
    "        all_books.extend(filtered_books)\n",
    "        time.sleep(0.5)  # API 호출 제한 방지를 위해 대기\n",
    "\n",
    "# ✅ 중복 제거 (책 제목 기준)\n",
    "unique_books = {book[\"title\"]: book for book in all_books}.values()\n",
    "\n",
    "# 📌 JSON 파일로 저장\n",
    "output_file = \"filtered_novels.json\"\n",
    "with open(output_file, \"w\", encoding=\"utf-8\") as f:\n",
    "    json.dump(list(unique_books), f, ensure_ascii=False, indent=4)\n",
    "\n",
    "print(f\"✅ 총 {len(unique_books)}권의 장편 소설 데이터가 '{output_file}'에 저장되었습니다!\")\n"
   ]
  },
  {
   "cell_type": "code",
   "execution_count": null,
   "metadata": {},
   "outputs": [
    {
     "name": "stdout",
     "output_type": "stream",
     "text": [
      "✅ 랜덤 200권 라벨링 완료! ('labeling_novels.json' 저장)\n",
      "✅ 나머지 1481권 모델 요약 준비 완료! ('unlabeled_books.json' 저장)\n"
     ]
    }
   ],
   "source": [
    "import json\n",
    "import random\n",
    "\n",
    "# 📌 1. 전체 1637권 데이터 로드\n",
    "with open(\"filtered_novels.json\", \"r\", encoding=\"utf-8\") as f:\n",
    "    all_books = json.load(f)\n",
    "\n",
    "# ✅ 2. 랜덤으로 200권 선택 (라벨링용)\n",
    "random.shuffle(all_books)  # 랜덤 셔플\n",
    "labeled_books = all_books[:200]  # 앞에서 200권 선택\n",
    "\n",
    "# ✅ 3. 나머지 1437권 (모델 자동 요약용)\n",
    "unlabeled_books = all_books[200:]\n",
    "\n",
    "# 📌 4. 라벨링 데이터 저장\n",
    "with open(\"labeling_novels.json\", \"w\", encoding=\"utf-8\") as f:\n",
    "    json.dump(labeled_books, f, ensure_ascii=False, indent=4)\n",
    "\n",
    "# 📌 5. 모델 요약용 데이터 저장\n",
    "with open(\"unlabeled_books.json\", \"w\", encoding=\"utf-8\") as f:\n",
    "    json.dump(unlabeled_books, f, ensure_ascii=False, indent=4)\n",
    "\n",
    "print(f\"✅ 랜덤 200권 라벨링 완료! ('labeling_novels.json' 저장)\")\n",
    "print(f\"✅ 나머지 1437권 모델 요약 준비 완료! ('unlabeled_books.json' 저장)\")\n"
   ]
  },
  {
   "cell_type": "code",
   "execution_count": null,
   "metadata": {},
   "outputs": [],
   "source": []
  },
  {
   "cell_type": "code",
   "execution_count": null,
   "metadata": {},
   "outputs": [
    {
     "name": "stdout",
     "output_type": "stream",
     "text": [
      "✅ 랜덤 100권 라벨링 완료! ('labeling_novels_2.json' 저장)\n",
      "✅ 나머지 1381권 모델 요약 준비 완료! ('unlabeled_books_final.json' 저장)\n"
     ]
    }
   ],
   "source": [
    "import json\n",
    "import random\n",
    "\n",
    "# 📌 1. 추가 라벨링 위해 1481권 데이터 로드\n",
    "with open(\"unlabeled_books.json\", \"r\", encoding=\"utf-8\") as f:\n",
    "    all_books = json.load(f)\n",
    "\n",
    "# ✅ 2. 랜덤으로 100권 선택 (라벨링용)\n",
    "random.shuffle(all_books)  # 랜덤 셔플\n",
    "labeled_books = all_books[:100]  # 앞에서 200권 선택\n",
    "\n",
    "# ✅ 3. 나머지 1381권 (모델 자동 요약용)\n",
    "unlabeled_books = all_books[100:]\n",
    "\n",
    "# 📌 4. 라벨링 데이터 저장\n",
    "with open(\"labeling_novels_2.json\", \"w\", encoding=\"utf-8\") as f:\n",
    "    json.dump(labeled_books, f, ensure_ascii=False, indent=4)\n",
    "\n",
    "# 📌 5. 모델 요약용 데이터 저장\n",
    "with open(\"unlabeled_books_final.json\", \"w\", encoding=\"utf-8\") as f:\n",
    "    json.dump(unlabeled_books, f, ensure_ascii=False, indent=4)\n",
    "\n",
    "print(f\"✅ 랜덤 100권 라벨링 완료! ('labeling_novels_2.json' 저장)\")\n",
    "print(f\"✅ 나머지 1337권 모델 요약 준비 완료! ('unlabeled_books_final.json' 저장)\")\n",
    "# labeling_novels_2.json + labeling_novels.json 합치고 unlabeled_books_2.json에서는 summary 제외해야함"
   ]
  },
  {
   "cell_type": "code",
   "execution_count": 5,
   "metadata": {},
   "outputs": [
    {
     "name": "stdout",
     "output_type": "stream",
     "text": [
      "✅ `summary` 필드 제거 완료! 결과가 'unlabeled_books_no_summary.json' 파일에 저장되었습니다.\n"
     ]
    }
   ],
   "source": [
    "#summary 빼고 저장\n",
    "import json\n",
    "\n",
    "# ✅ 1️⃣ 기존 JSON 파일 로드\n",
    "input_file = \"unlabeled_books_final.json\"\n",
    "with open(input_file, \"r\", encoding=\"utf-8\") as f:\n",
    "    books_data = json.load(f)\n",
    "\n",
    "# ✅ 2️⃣ 모든 책에서 `summary` 필드 제거\n",
    "for book in books_data:\n",
    "    book.pop(\"summary\", None)  # 🔹 `summary` 필드가 있으면 삭제\n",
    "\n",
    "# ✅ 3️⃣ 새로운 JSON 파일로 저장\n",
    "output_file = \"unlabeled_books_no_summary.json\"\n",
    "with open(output_file, \"w\", encoding=\"utf-8\") as f:\n",
    "    json.dump(books_data, f, ensure_ascii=False, indent=4)\n",
    "\n",
    "print(f\"✅ `summary` 필드 제거 완료! 결과가 '{output_file}' 파일에 저장되었습니다.\")\n"
   ]
  },
  {
   "cell_type": "code",
   "execution_count": 6,
   "metadata": {},
   "outputs": [
    {
     "name": "stdout",
     "output_type": "stream",
     "text": [
      "✅ '줄거리 없음' 데이터를 제거하고, 결과를 'labeling_novels_filtered.json' 파일에 저장했습니다!\n"
     ]
    }
   ],
   "source": [
    "## 라벨링 데이터 중 \"summary\": \"줄거리 없음\"인 데이터 제거\n",
    "import json\n",
    "\n",
    "# ✅ 1️⃣ 기존 라벨링 데이터 로드\n",
    "with open(\"labeling_novels.json\", \"r\", encoding=\"utf-8\") as f:\n",
    "    labeled_books = json.load(f)\n",
    "\n",
    "# ✅ 2️⃣ \"줄거리 없음\" 데이터 제거\n",
    "filtered_books = [book for book in labeled_books if book[\"summary\"].strip() != \"줄거리 없음\"]\n",
    "\n",
    "# ✅ 3️⃣ 새로운 JSON 파일로 저장\n",
    "output_file = \"labeling_novels_filtered.json\"\n",
    "with open(output_file, \"w\", encoding=\"utf-8\") as f:\n",
    "    json.dump(filtered_books, f, ensure_ascii=False, indent=4)\n",
    "\n",
    "print(f\"✅ '줄거리 없음' 데이터를 제거하고, 결과를 '{output_file}' 파일에 저장했습니다!\")\n"
   ]
  }
 ],
 "metadata": {
  "kernelspec": {
   "display_name": "hi",
   "language": "python",
   "name": "python3"
  },
  "language_info": {
   "codemirror_mode": {
    "name": "ipython",
    "version": 3
   },
   "file_extension": ".py",
   "mimetype": "text/x-python",
   "name": "python",
   "nbconvert_exporter": "python",
   "pygments_lexer": "ipython3",
   "version": "3.10.13"
  }
 },
 "nbformat": 4,
 "nbformat_minor": 2
}
