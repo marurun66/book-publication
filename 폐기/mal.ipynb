{
 "cells": [
  {
   "cell_type": "code",
   "execution_count": null,
   "metadata": {},
   "outputs": [],
   "source": [
    "#https://myanimelist.net/manga.php api 이용"
   ]
  },
  {
   "cell_type": "code",
   "execution_count": 6,
   "metadata": {},
   "outputs": [],
   "source": [
    "#.env에서 API키 가져오기\n",
    "import os\n",
    "from dotenv import load_dotenv\n",
    "load_dotenv('.env')\n",
    "CLIENT_ID = os.getenv('MAL_Client_ID')\n",
    "CLIENT_SECRET = os.getenv('MAL_Client_Secret')\n",
    "# HTTP 요청 헤더 설정"
   ]
  },
  {
   "cell_type": "code",
   "execution_count": 8,
   "metadata": {},
   "outputs": [],
   "source": [
    "\n",
    "import requests\n",
    "\n",
    "\n",
    "def search_manga_mal(manga_title):\n",
    "    url = f\"https://api.myanimelist.net/v2/manga?q={manga_title}&limit=1&fields=id,title,authors,start_date\"\n",
    "    headers = {\"X-MAL-CLIENT-ID\": CLIENT_ID}  # Client ID 필요\n",
    "\n",
    "    response = requests.get(url, headers=headers)\n",
    "\n",
    "    if response.status_code == 200:\n",
    "        data = response.json()\n",
    "        if \"data\" in data and len(data[\"data\"]) > 0:\n",
    "            manga = data[\"data\"][0][\"node\"]\n",
    "            title = manga.get(\"title\", \"N/A\")\n",
    "            authors = manga.get(\"authors\", \"N/A\")\n",
    "            start_date = manga.get(\"start_date\", \"N/A\")\n",
    "            return {\"Title\": title, \"Authors\": authors, \"Start Date\": start_date}\n",
    "    else:\n",
    "        print(\"API 요청 실패:\", response.status_code)\n",
    "        return None"
   ]
  },
  {
   "cell_type": "code",
   "execution_count": 9,
   "metadata": {},
   "outputs": [
    {
     "name": "stdout",
     "output_type": "stream",
     "text": [
      "{'Title': 'One Piece', 'Authors': [{'node': {'id': 1881}, 'role': 'Story & Art'}], 'Start Date': '1997-07-22'}\n"
     ]
    }
   ],
   "source": [
    "manga_info = search_manga_mal(\"One Piece\")\n",
    "print(manga_info)"
   ]
  },
  {
   "cell_type": "code",
   "execution_count": null,
   "metadata": {},
   "outputs": [],
   "source": []
  },
  {
   "cell_type": "code",
   "execution_count": 15,
   "metadata": {},
   "outputs": [],
   "source": [
    "def get_manga_details(manga_id):\n",
    "    url = f\"https://api.myanimelist.net/v2/manga/{manga_id}?fields=id,title,authors,volumes,start_date,synopsis,serialization\"\n",
    "    headers = {\"X-MAL-CLIENT-ID\": CLIENT_ID}\n",
    "\n",
    "    response = requests.get(url, headers=headers)\n",
    "\n",
    "    if response.status_code == 200:\n",
    "        data = response.json()\n",
    "        return data\n",
    "    else:\n",
    "        print(\"API 요청 실패:\", response.status_code)\n",
    "        return None"
   ]
  },
  {
   "cell_type": "code",
   "execution_count": 16,
   "metadata": {},
   "outputs": [
    {
     "name": "stdout",
     "output_type": "stream",
     "text": [
      "{'id': 13, 'title': 'One Piece', 'main_picture': {'medium': 'https://cdn.myanimelist.net/images/manga/2/253146.jpg', 'large': 'https://cdn.myanimelist.net/images/manga/2/253146l.jpg'}, 'authors': [{'node': {'id': 1881}, 'role': 'Story & Art'}], 'start_date': '1997-07-22', 'synopsis': 'Gol D. Roger, a man referred to as the King of the Pirates, is set to be executed by the World Government. But just before his demise, he confirms the existence of a great treasure, One Piece, located somewhere within the vast ocean known as the Grand Line. Announcing that One Piece can be claimed by anyone worthy enough to reach it, the King of the Pirates is executed and the Great Age of Pirates begins.\\n\\nTwenty-two years later, a young man by the name of Monkey D. Luffy is ready to embark on his own adventure, searching for One Piece and striving to become the new King of the Pirates. Armed with just a straw hat, a small boat, and an elastic body, he sets out on a fantastic journey to gather his own crew and a worthy ship that will take them across the Grand Line to claim the greatest status on the high seas.\\n\\n[Written by MAL Rewrite]', 'serialization': [{'node': {'id': 83, 'name': 'Shounen Jump (Weekly)'}}]}\n"
     ]
    }
   ],
   "source": [
    "manga_details = get_manga_details(13)\n",
    "print(manga_details)"
   ]
  },
  {
   "cell_type": "code",
   "execution_count": null,
   "metadata": {},
   "outputs": [],
   "source": []
  }
 ],
 "metadata": {
  "kernelspec": {
   "display_name": "hi",
   "language": "python",
   "name": "python3"
  },
  "language_info": {
   "codemirror_mode": {
    "name": "ipython",
    "version": 3
   },
   "file_extension": ".py",
   "mimetype": "text/x-python",
   "name": "python",
   "nbconvert_exporter": "python",
   "pygments_lexer": "ipython3",
   "version": "3.10.13"
  }
 },
 "nbformat": 4,
 "nbformat_minor": 2
}
